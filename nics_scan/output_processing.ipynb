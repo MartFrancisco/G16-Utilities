{
 "cells": [
  {
   "cell_type": "code",
   "execution_count": 2,
   "id": "349038ca-abe9-4213-bbc7-1e958dc0f743",
   "metadata": {},
   "outputs": [],
   "source": [
    "import numpy as np\n",
    "import matplotlib.pyplot as plt\n",
    "from matplotlib.ticker import AutoMinorLocator, MultipleLocator\n",
    "from matplotlib import collections as matcoll\n",
    "import seaborn as sns\n",
    "from scipy.interpolate import make_interp_spline\n",
    "from matplotlib.colors import to_rgb\n",
    "\n",
    "infile_name = \"antracene_d2h/antracene_d2h.out\"\n",
    "outfile_name = \"antracene_d2h/antracene_d2h_data_points.txt\"\n",
    "count = 0.0\n",
    "\n",
    "# Read the output file and extract ZZ values\"\n",
    "data_lines = []\n",
    "with open(infile_name, \"r\") as infile:\n",
    "    lines = infile.readlines()\n",
    "    for i, line in enumerate(lines):\n",
    "        if \"Bq   Isotropic\" in line:\n",
    "            for sub_line in lines[i+1:i+4]:\n",
    "                if \"ZZ=\" in sub_line:\n",
    "                    cols = sub_line.split()\n",
    "                    if len(cols) >= 6:\n",
    "                        data_lines.append([count, float(cols[5])])\n",
    "                        count += 0.02\n",
    "\n",
    "# Convert to numpy array for processing\n",
    "data = np.array(data_lines)\n",
    "\n",
    "# Find midpoint index\n",
    "mid_index = len(data) // 2\n",
    "\n",
    "# Get x-value at midpoint\n",
    "mid_x = data[mid_index, 0]\n",
    "\n",
    "# Shift x so midpoint is at 0\n",
    "data[:, 0] -= mid_x\n",
    "\n",
    "# Invert y (ZZ values)\n",
    "data[:, 1] = -data[:, 1]\n",
    "\n",
    "# Save the processed data into mol.txt\n",
    "np.savetxt(outfile_name, data, fmt=\"%.6f\", delimiter=\"\\t\")"
   ]
  },
  {
   "cell_type": "code",
   "execution_count": null,
   "id": "2303fce9-82e5-4e96-a9b1-cd724a1e8103",
   "metadata": {},
   "outputs": [],
   "source": []
  }
 ],
 "metadata": {
  "kernelspec": {
   "display_name": "Python 3 (ipykernel)",
   "language": "python",
   "name": "python3"
  },
  "language_info": {
   "codemirror_mode": {
    "name": "ipython",
    "version": 3
   },
   "file_extension": ".py",
   "mimetype": "text/x-python",
   "name": "python",
   "nbconvert_exporter": "python",
   "pygments_lexer": "ipython3",
   "version": "3.13.5"
  }
 },
 "nbformat": 4,
 "nbformat_minor": 5
}
